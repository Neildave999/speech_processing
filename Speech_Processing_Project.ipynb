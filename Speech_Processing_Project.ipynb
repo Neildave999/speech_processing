{
  "nbformat": 4,
  "nbformat_minor": 0,
  "metadata": {
    "colab": {
      "provenance": [],
      "include_colab_link": true
    },
    "kernelspec": {
      "name": "python3",
      "display_name": "Python 3"
    },
    "language_info": {
      "name": "python"
    }
  },
  "cells": [
    {
      "cell_type": "markdown",
      "metadata": {
        "id": "view-in-github",
        "colab_type": "text"
      },
      "source": [
        "<a href=\"https://colab.research.google.com/github/Neildave999/speech_processing/blob/main/Speech_Processing_Project.ipynb\" target=\"_parent\"><img src=\"https://colab.research.google.com/assets/colab-badge.svg\" alt=\"Open In Colab\"/></a>"
      ]
    },
    {
      "cell_type": "markdown",
      "source": [
        "# Speech processing Project\n",
        "\n",
        "## Project Members\n",
        "\n",
        "*   Neil Dave (23PGAI049)\n",
        "*   Yash Turakhia (23PGAI037)"
      ],
      "metadata": {
        "id": "R7HpLiKm-ke4"
      }
    },
    {
      "cell_type": "markdown",
      "source": [
        "This is a Python script that includes a function named \"note_detect\", which accepts an audio file as an input and then identifies the frequency of the note present in the audio.\n",
        "\n",
        "\\\n",
        "Before the function is defined, the following libraries are imported:\n",
        "* numpy (as np): This is a popular library for scientific computing in Python. It provides support for multi-dimensional arrays, mathematical functions, and tools for working with arrays.\n",
        "* math: This is a built-in Python module that provides mathematical functions.\n",
        "* wave: This is a module in the Python standard library that provides support for reading and writing WAV files.\n",
        "* os: This is a module in the Python standard library that provides a way of interacting with the file system.\n",
        "* struct: This is a module in the Python standard library that provides functions for converting between Python values and C structs represented as Python bytes objects.\n",
        "* matplotlib.pyplot (as plt): This is a plotting library for Python. It provides functions for creating a variety of plots, including line plots, scatter plots, and histograms.\n",
        "\n",
        "\\\n",
        "\n",
        "The code then defines a function named \"note_detect\". This function takes an audio file as an input, reads it, and stores it as a NumPy array. It then plots the sound wave and the Fourier transform of the sound wave using the matplotlib library. It also performs peak detection on the Fourier transform to determine the frequency of the note present in the audio. Finally, it maps the frequency to the closest note in a pre-defined frequency database and returns the name of the note. The frequency database is a NumPy array that maps frequencies to their corresponding note names."
      ],
      "metadata": {
        "id": "Ygc9Hmh5DVpp"
      }
    },
    {
      "cell_type": "markdown",
      "source": [
        "# Loading Library"
      ],
      "metadata": {
        "id": "kCu03LEr-dI0"
      }
    },
    {
      "cell_type": "code",
      "source": [
        "import numpy as np\n",
        "import math\n",
        "import wave\n",
        "import os\n",
        "import struct\n",
        "import matplotlib.pyplot as plt"
      ],
      "metadata": {
        "id": "qJXL8EK5-g7t"
      },
      "execution_count": null,
      "outputs": []
    },
    {
      "cell_type": "code",
      "source": [
        "def note_detect(audio_file):\n",
        "\t#Storing the sound file as an np array\n",
        "\tfile_length=audio_file.getnframes() # number of frames\n",
        "\tf_s=audio_file.getframerate() # sampling frequency\n",
        "\tsound = np.zeros(file_length) # array to store the sound\n",
        "\n",
        "\t# reading the sound file\n",
        "\tfor i in range(file_length) : \n",
        "\t\twdata=audio_file.readframes(1)\n",
        "\t\tdata=struct.unpack(\"<h\",wdata)\n",
        "\t\tsound[i] = int(data[0])\n",
        "\t\n",
        "\tplt.plot(sound) #plotting the sound file as a graph\n",
        "\tplt.show()\n",
        "\t\n",
        "\tsound=np.divide(sound,float(2**15)) # normalizing the sound file to a range of 0 to 1\n",
        "\tcounter = audio_file.getnchannels() # number of channels in the sound file (1 for mono, 2 for stereo)\n",
        "\n",
        "\tplt.plot(sound) # plotting the sound file as a graph after normalizing\n",
        "\tplt.show()\n",
        "\n",
        "\t#fourier transformation from numpy module\n",
        "\tfourier = np.fft.fft(sound)\n",
        "\tfourier = np.absolute(fourier)\n",
        "\timax=np.argmax(fourier[0:int(file_length/2)]) #index of max element\n",
        "\t\t\n",
        "\tplt.plot(fourier) # plotting the fourier transformation of the sound file as a graph \n",
        "\tplt.show()\n",
        "\n",
        "\t#peak detection algorithm\n",
        "\ti_begin = -1 # initializing the index of the first peak\n",
        "\tthreshold = 0.3 * fourier[imax] # threshold value for the peak detection algorithm\n",
        "\tfor i in range (0,imax+100): # loop to find the index of the first peak\n",
        "\t\tif fourier[i] >= threshold:\n",
        "\t\t\tif(i_begin==-1):\n",
        "\t\t\t\ti_begin = i\t\t\t\t\n",
        "\t\tif(i_begin!=-1 and fourier[i]<threshold):\n",
        "\t\t\tbreak\n",
        "\ti_end = i\n",
        "\timax = np.argmax(fourier[0:i_end+100])\n",
        "\t\n",
        "\tfreq=(imax*f_s)/(file_length*counter) # formula to convert index into sound frequency in Hz\n",
        "\t\n",
        "\t#frequency database\n",
        "\tnote=0\n",
        "\tname = np.array([\"C0\",\"C#0\",\"D0\",\"D#0\",\"E0\",\"F0\",\"F#0\",\"G0\",\"G#0\",\"A0\",\"A#0\",\"B0\",\"C1\",\"C#1\",\"D1\",\"D#1\",\"E1\",\"F1\",\"F#1\",\"G1\",\"G#1\",\"A1\",\"A#1\",\"B1\",\"C2\",\"C#2\",\"D2\",\"D#2\",\"E2\",\"F2\",\"F#2\",\"G2\",\"G2#\",\"A2\",\"A2#\",\"B2\",\"C3\",\"C3#\",\"D3\",\"D3#\",\"E3\",\"F3\",\"F3#\",\"G3\",\"G3#\",\"A3\",\"A3#\",\"B3\",\"C4\",\"C4#\",\"D4\",\"D4#\",\"E4\",\"F4\",\"F4#\",\"G4\",\"G4#\",\"A4\",\"A4#\",\"B4\",\"C5\",\"C5#\",\"D5\",\"D5#\",\"E5\",\"F5\",\"F5#\",\"G5\",\"G5#\",\"A5\",\"A5#\",\"B5\",\"C6\",\"C6#\",\"D6\",\"D6#\",\"E6\",\"F6\",\"F6#\",\"G6\",\"G6#\",\"A6\",\"A6#\",\"B6\",\"C7\",\"C7#\",\"D7\",\"D7#\",\"E7\",\"F7\",\"F7#\",\"G7\",\"G7#\",\"A7\",\"A7#\",\"B7\",\"C8\",\"C8#\",\"D8\",\"D8#\",\"E8\",\"F8\",\"F8#\",\"G8\",\"G8#\",\"A8\",\"A8#\",\"B8\",\"Beyond B8\"])\n",
        "\tfrequencies = np.array([16.35,17.32,18.35,19.45,20.60,21.83,23.12,24.50,25.96\t,27.50\t,29.14\t,30.87\t,32.70\t,34.65\t,36.71\t,38.89\t,41.20\t,43.65\t,46.25\t,49.00\t,51.91\t,55.00\t,58.27\t,61.74\t,65.41\t,69.30\t,73.42\t,77.78\t,82.41\t,87.31\t,92.50\t,98.00\t,103.83\t,110.00\t,116.54\t,123.47\t,130.81\t,138.59\t,146.83\t,155.56\t,164.81\t,174.61\t,185.00\t,196.00\t,207.65\t,220.00\t,233.08\t,246.94\t,261.63\t,277.18\t,293.66\t,311.13\t,329.63\t,349.23\t,369.99\t,392.00\t,415.30\t,440.00\t,466.16\t,493.88\t,523.25\t,554.37\t,587.33\t,622.25\t,659.26\t,698.46\t,739.99\t,783.99\t,830.61\t,880.00\t,932.33\t,987.77\t,1046.50\t,1108.73\t,1174.66\t,1244.51\t,1318.51\t,1396.91\t,1479.98\t,1567.98\t,1661.22\t,1760.00\t,1864.66\t,1975.53\t,2093.00\t,2217.46\t,2349.32\t,2489.02\t,2637.02\t,2793.83\t,2959.96\t,3135.96\t,3322.44\t,3520.00\t,3729.31\t,3951.07\t,4186.01\t,4434.92\t,4698.64\t,4978.03\t,5274.04\t,5587.65\t,5919.91\t,6271.93\t,6644.88\t,7040.00\t,7458.62\t,7902.13,8000])\n",
        "\t\n",
        "\t#searching for matched frequencies\n",
        "\tfor i in range(0,frequencies.size-1):\n",
        "\t\t\tif(freq<frequencies[0]):\n",
        "\t\t\t\tnote=name[0]\n",
        "\t\t\t\tbreak\n",
        "\t\t\tif(freq>frequencies[-1]):\n",
        "\t\t\t\tnote=name[-1]\n",
        "\t\t\t\tbreak\n",
        "\t\t\tif freq>=frequencies[i] and frequencies[i+1]>=freq :\n",
        "\t\t\t\tif freq-frequencies[i]<(frequencies[i+1]-frequencies[i])/2 :\n",
        "\t\t\t\t\tnote=name[i]\n",
        "\t\t\t\telse :\n",
        "\t\t\t\t\tnote=name[i+1]\n",
        "\t\t\t\tbreak\n",
        "\treturn note"
      ],
      "metadata": {
        "id": "EjklO3Fe-itl"
      },
      "execution_count": 1,
      "outputs": []
    },
    {
      "cell_type": "code",
      "source": [
        "if __name__ == \"__main__\":\n",
        "\n",
        "\tpath = os.getcwd()\n",
        "\tfile_name = path + \"/c4.wav\"\n",
        "\taudio_file = wave.open(file_name)\n",
        "\tDetected_Note = note_detect(audio_file)\n",
        "\tprint(\"\\n\\tDetected Note = \" + str(Detected_Note))"
      ],
      "metadata": {
        "id": "KhBkOEk4CJiF"
      },
      "execution_count": null,
      "outputs": []
    }
  ]
}
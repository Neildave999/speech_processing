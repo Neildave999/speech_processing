{
  "nbformat": 4,
  "nbformat_minor": 0,
  "metadata": {
    "colab": {
      "provenance": [],
      "authorship_tag": "ABX9TyMJGQw4zwj9Qmvbmi5yErQ1",
      "include_colab_link": true
    },
    "kernelspec": {
      "name": "python3",
      "display_name": "Python 3"
    },
    "language_info": {
      "name": "python"
    }
  },
  "cells": [
    {
      "cell_type": "markdown",
      "metadata": {
        "id": "view-in-github",
        "colab_type": "text"
      },
      "source": [
        "<a href=\"https://colab.research.google.com/github/Neildave999/speech_processing/blob/main/Speech_Processing_Project.ipynb\" target=\"_parent\"><img src=\"https://colab.research.google.com/assets/colab-badge.svg\" alt=\"Open In Colab\"/></a>"
      ]
    },
    {
      "cell_type": "markdown",
      "source": [
        "# Speech processing Project\n",
        "\n",
        "## Project Members\n",
        "\n",
        "*   Neil Dave (23PGAI049)\n",
        "*   Yash Turakhia (23PGAI037)\n",
        "\n"
      ],
      "metadata": {
        "id": "R7HpLiKm-ke4"
      }
    },
    {
      "cell_type": "markdown",
      "source": [
        "# Loading Library"
      ],
      "metadata": {
        "id": "kCu03LEr-dI0"
      }
    },
    {
      "cell_type": "code",
      "source": [
        "import numpy as np\n",
        "import math\n",
        "import wave\n",
        "import os\n",
        "import struct\n",
        "import matplotlib.pyplot as plt"
      ],
      "metadata": {
        "id": "qJXL8EK5-g7t"
      },
      "execution_count": 1,
      "outputs": []
    },
    {
      "cell_type": "code",
      "source": [],
      "metadata": {
        "id": "EjklO3Fe-itl"
      },
      "execution_count": null,
      "outputs": []
    }
  ]
}